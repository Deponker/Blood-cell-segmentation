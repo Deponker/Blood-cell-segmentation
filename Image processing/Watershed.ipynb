{
 "cells": [
  {
   "cell_type": "code",
   "execution_count": 0,
   "metadata": {
    "collapsed": false
   },
   "outputs": [
   ],
   "source": [
    "import numpy as np\n",
    "import cv2\n",
    "from matplotlib import pyplot as plt\n",
    "\n",
    "src = cv2.imread('H:/499B/ALL DATA/Original/00a02700-2ea2-4590-9e15-ffc9160fd3de.png')\n",
    "img = src.copy()\n",
    "gray = img[:, :, 0]\n",
    "ret, thresh = cv2.threshold(gray,0,255,cv2.THRESH_BINARY_INV+cv2.THRESH_OTSU)\n",
    "\n",
    "\n",
    "# noise removal\n",
    "kernel = np.ones((3,3),np.uint8)\n",
    "opening = cv2.morphologyEx(thresh,cv2.MORPH_OPEN,kernel, iterations = 3) # Morphological open operation\n",
    "\n",
    "# sure background area\n",
    "sure_bg = cv2.dilate(opening,kernel,iterations=9)\n",
    "\n",
    "# Finding sure foreground area\n",
    "dist_transform = cv2.distanceTransform(opening,cv2.DIST_L2,3)\n",
    "ret, sure_fg = cv2.threshold(dist_transform,0.5*dist_transform.max(),255,0)\n",
    "\n",
    "# Finding unknown region\n",
    "sure_fg = np.uint8(sure_fg)\n",
    "unknown = cv2.subtract(sure_bg,sure_fg)\n",
    "\n",
    "\n",
    "# Marker labelling\n",
    "ret, markers1 = cv2.connectedComponents(sure_fg)\n",
    "# Add one to all labels so that sure background is not 0, but 1\n",
    "markers = markers1+10\n",
    "\n",
    "# Now, mark the region of unknown with zero\n",
    "markers[unknown==255] = 0\n",
    "\n",
    "markers3 = cv2.watershed(img,markers)\n",
    "img[markers3 == -1] = [255,255,255]\n",
    "\n",
    "plt.subplot(241), plt.imshow(cv2.cvtColor(src, cv2.COLOR_BGR2RGB)),\n",
    "plt.title('Original'), plt.axis('off')\n",
    "plt.subplot(242), plt.imshow(thresh, cmap='gray'),\n",
    "plt.title('Threshold'), plt.axis('off')\n",
    "plt.subplot(243), plt.imshow(sure_bg, cmap='gray'),\n",
    "plt.title('Dilate'), plt.axis('off')\n",
    "plt.subplot(244), plt.imshow(dist_transform, cmap='gray'),\n",
    "plt.title('Dist Transform'), plt.axis('off')\n",
    "plt.subplot(245), plt.imshow(sure_fg, cmap='gray'),\n",
    "plt.title('Threshold'), plt.axis('off')\n",
    "plt.subplot(246), plt.imshow(unknown, cmap='gray'),\n",
    "plt.title('Unknow'), plt.axis('off')\n",
    "plt.subplot(247), plt.imshow(np.abs(markers), cmap='jet'),\n",
    "plt.title('Markers'), plt.axis('off')\n",
    "plt.subplot(248), plt.imshow(cv2.cvtColor(img, cv2.COLOR_BGR2RGB)),\n",
    "plt.title('Result'), plt.axis('off')\n",
    "\n",
    "plt.show()\n",
    "gr = cv2.cvtColor(img, cv2.COLOR_BGR2GRAY)\n",
    "ret1,th1 = cv2.threshold(gr,127,255,0)\n",
    "#ret1,th1 = cv2.threshold(gr,185,200,cv2.THRESH_BINARY_INV)\n",
    "#cv2.imshow('unknown',th1)\n",
    "#cv2.waitKey(0)\n",
    "#cv2.destroyAllWindows()\n",
    "\n",
    "\n",
    "imagem = th1\n",
    "imagem = cv2.bitwise_not(imagem)\n",
    "cv2.imshow('unknown',imagem)\n",
    "\n",
    "cv2.waitKey(0)\n",
    "cv2.destroyAllWindows()\n",
    "\n",
    "cv2.imwrite('C:/Users/DIPTO/Desktop/try.png', imagem)"
   ]
  }
 ],
 "metadata": {
  "kernelspec": {
   "display_name": "Python 3 (system-wide)",
   "language": "python",
   "metadata": {
    "cocalc": {
     "description": "Python 3 programming language",
     "priority": 100,
     "url": "https://www.python.org/"
    }
   },
   "name": "python3",
   "resource_dir": "/ext/jupyter/kernels/python3"
  }
 },
 "nbformat": 4,
 "nbformat_minor": 4
}